{
 "cells": [
  {
   "cell_type": "markdown",
   "metadata": {},
   "source": [
    "# Enron Dataset POI Indentifier\n",
    "\n",
    "## I. Project Overview\n",
    "In 2000, Enron was one of the largest companies in the United States. By 2002, it had collapsed into bankruptcy due to widespread corporate fraud. In the resulting Federal investigation, a significant amount of typically confidential information entered into the public record, including tens of thousands of emails and detailed financial data for top executives. In this project, I will play detective, and put my new skills to use by building a person of interest (POI) identifier based on financial and email data made public as a result of the Enron scandal. To assist in my detective work, there is a combination of data with a hand-generated list of persons of interest in the fraud case, which means individuals who were indicted, reached a settlement or plea deal with the government, or testified in exchange for prosecution immunity."
   ]
  },
  {
   "cell_type": "code",
   "execution_count": 1,
   "metadata": {
    "collapsed": false
   },
   "outputs": [
    {
     "name": "stderr",
     "output_type": "stream",
     "text": [
      "/usr/local/lib/python2.7/site-packages/sklearn/cross_validation.py:44: DeprecationWarning: This module was deprecated in version 0.18 in favor of the model_selection module into which all the refactored classes and functions are moved. Also note that the interface of the new CV iterators are different from that of this module. This module will be removed in 0.20.\n",
      "  \"This module will be removed in 0.20.\", DeprecationWarning)\n"
     ]
    }
   ],
   "source": [
    "#!/usr/bin/python\n",
    "\n",
    "import sys\n",
    "import pickle\n",
    "import warnings\n",
    "warnings.filterwarnings(\"ignore\")\n",
    "sys.path.append(\"../tools/\")\n",
    "\n",
    "from feature_format import featureFormat, targetFeatureSplit\n",
    "from tester import dump_classifier_and_data"
   ]
  },
  {
   "cell_type": "code",
   "execution_count": 2,
   "metadata": {
    "collapsed": true
   },
   "outputs": [],
   "source": [
    "### Task 1: Select what features you'll use.\n",
    "### features_list is a list of strings, each of which is a feature name.\n",
    "### The first feature must be \"poi\".\n",
    "features_list = [\"poi\", \"salary\", \"bonus_salary_ratio\", \"fraction_from_poi\", \"fraction_to_poi\", \"deferral_payments\", \"total_payments\", \\\n",
    "                     \"loan_advances\", \"bonus\", \"restricted_stock_deferred\", \"deferred_income\", \"total_stock_value\", \\\n",
    "                     \"expenses\", \"exercised_stock_options\", \"other\", \"long_term_incentive\", \"restricted_stock\", \\\n",
    "                     \"director_fees\", \"to_messages\", \"from_poi_to_this_person\", \"from_messages\", \\\n",
    "                     \"from_this_person_to_poi\", \"shared_receipt_with_poi\"] # You will need to use more features"
   ]
  },
  {
   "cell_type": "code",
   "execution_count": 3,
   "metadata": {
    "collapsed": true
   },
   "outputs": [],
   "source": [
    "### Load the dictionary containing the dataset\n",
    "with open(\"final_project_dataset.pkl\", \"r\") as data_file:\n",
    "    data_dict = pickle.load(data_file)"
   ]
  },
  {
   "cell_type": "markdown",
   "metadata": {
    "collapsed": false
   },
   "source": [
    "## II. Data Exploration"
   ]
  },
  {
   "cell_type": "markdown",
   "metadata": {
    "collapsed": false
   },
   "source": []
  },
  {
   "cell_type": "code",
   "execution_count": 4,
   "metadata": {
    "collapsed": false
   },
   "outputs": [
    {
     "name": "stdout",
     "output_type": "stream",
     "text": [
      "There are  146  employees(data points) in this dataset\n",
      "['METTS MARK', 'BAXTER JOHN C', 'ELLIOTT STEVEN', 'CORDES WILLIAM R', 'HANNON KEVIN P', 'MORDAUNT KRISTINA M', 'MEYER ROCKFORD G', 'MCMAHON JEFFREY', 'HORTON STANLEY C', 'PIPER GREGORY F', 'HUMPHREY GENE E', 'UMANOFF ADAM S', 'BLACHMAN JEREMY M', 'SUNDE MARTIN', 'GIBBS DANA R', 'LOWRY CHARLES P', 'COLWELL WESLEY', 'MULLER MARK S', 'JACKSON CHARLENE R', 'WESTFAHL RICHARD K', 'WALTERS GARETH W', 'WALLS JR ROBERT H', 'KITCHEN LOUISE', 'CHAN RONNIE', 'BELFER ROBERT', 'SHANKMAN JEFFREY A', 'WODRASKA JOHN', 'BERGSIEKER RICHARD P', 'URQUHART JOHN A', 'BIBI PHILIPPE A', 'RIEKER PAULA H', 'WHALEY DAVID A', 'BECK SALLY W', 'HAUG DAVID L', 'ECHOLS JOHN B', 'MENDELSOHN JOHN', 'HICKERSON GARY J', 'CLINE KENNETH W', 'LEWIS RICHARD', 'HAYES ROBERT E', 'MCCARTY DANNY J', 'KOPPER MICHAEL J', 'LEFF DANIEL P', 'LAVORATO JOHN J', 'BERBERIAN DAVID', 'DETMERING TIMOTHY J', 'WAKEHAM JOHN', 'POWERS WILLIAM', 'GOLD JOSEPH', 'BANNANTINE JAMES M', 'DUNCAN JOHN H', 'SHAPIRO RICHARD S', 'SHERRIFF JOHN R', 'SHELBY REX', 'LEMAISTRE CHARLES', 'DEFFNER JOSEPH M', 'KISHKILL JOSEPH G', 'WHALLEY LAWRENCE G', 'MCCONNELL MICHAEL S', 'PIRO JIM', 'DELAINEY DAVID W', 'SULLIVAN-SHAKLOVITZ COLLEEN', 'WROBEL BRUCE', 'LINDHOLM TOD A', 'MEYER JEROME J', 'LAY KENNETH L', 'BUTTS ROBERT H', 'OLSON CINDY K', 'MCDONALD REBECCA', 'CUMBERLAND MICHAEL S', 'GAHN ROBERT S', 'MCCLELLAN GEORGE', 'HERMANN ROBERT J', 'SCRIMSHAW MATTHEW', 'GATHMANN WILLIAM D', 'HAEDICKE MARK E', 'BOWEN JR RAYMOND M', 'GILLIS JOHN', 'FITZGERALD JAY L', 'MORAN MICHAEL P', 'REDMOND BRIAN L', 'BAZELIDES PHILIP J', 'BELDEN TIMOTHY N', 'DURAN WILLIAM D', 'THORN TERENCE H', 'FASTOW ANDREW S', 'FOY JOE', 'CALGER CHRISTOPHER F', 'RICE KENNETH D', 'KAMINSKI WINCENTY J', 'LOCKHART EUGENE E', 'COX DAVID', 'OVERDYKE JR JERE C', 'PEREIRA PAULO V. FERRAZ', 'STABLER FRANK', 'SKILLING JEFFREY K', 'BLAKE JR. NORMAN P', 'SHERRICK JEFFREY B', 'PRENTICE JAMES', 'GRAY RODNEY', 'PICKERING MARK R', 'THE TRAVEL AGENCY IN THE PARK', 'NOLES JAMES L', 'KEAN STEVEN J', 'TOTAL', 'FOWLER PEGGY', 'WASAFF GEORGE', 'WHITE JR THOMAS E', 'CHRISTODOULOU DIOMEDES', 'ALLEN PHILLIP K', 'SHARP VICTORIA T', 'JAEDICKE ROBERT', 'WINOKUR JR. HERBERT S', 'BROWN MICHAEL', 'BADUM JAMES P', 'HUGHES JAMES A', 'REYNOLDS LAWRENCE', 'DIMICHELE RICHARD G', 'BHATNAGAR SANJAY', 'CARTER REBECCA C', 'BUCHANAN HAROLD G', 'YEAP SOON', 'MURRAY JULIA H', 'GARLAND C KEVIN', 'DODSON KEITH', 'YEAGER F SCOTT', 'HIRKO JOSEPH', 'DIETRICH JANET R', 'DERRICK JR. JAMES V', 'FREVERT MARK A', 'PAI LOU L', 'BAY FRANKLIN R', 'HAYSLETT RODERICK J', 'FUGH JOHN L', 'FALLON JAMES B', 'KOENIG MARK E', 'SAVAGE FRANK', 'IZZO LAWRENCE L', 'TILNEY ELIZABETH A', 'MARTIN AMANDA K', 'BUY RICHARD B', 'GRAMM WENDY L', 'CAUSEY RICHARD A', 'TAYLOR MITCHELL S', 'DONAHUE JR JEFFREY M', 'GLISAN JR BEN F']\n",
      "-------------------------------------\n",
      "\n",
      "LIST OF POI (Person Of Interest):\n",
      "Employee:  HANNON KEVIN P\n",
      "Employee:  COLWELL WESLEY\n",
      "Employee:  RIEKER PAULA H\n",
      "Employee:  KOPPER MICHAEL J\n",
      "Employee:  SHELBY REX\n",
      "Employee:  DELAINEY DAVID W\n",
      "Employee:  LAY KENNETH L\n",
      "Employee:  BOWEN JR RAYMOND M\n",
      "Employee:  BELDEN TIMOTHY N\n",
      "Employee:  FASTOW ANDREW S\n",
      "Employee:  CALGER CHRISTOPHER F\n",
      "Employee:  RICE KENNETH D\n",
      "Employee:  SKILLING JEFFREY K\n",
      "Employee:  YEAGER F SCOTT\n",
      "Employee:  HIRKO JOSEPH\n",
      "Employee:  KOENIG MARK E\n",
      "Employee:  CAUSEY RICHARD A\n",
      "Employee:  GLISAN JR BEN F\n",
      "-------------------------------------\n",
      "\n",
      "The number of POIs in the dataset is 18\n"
     ]
    }
   ],
   "source": [
    "list_of_employees = [employee for employee in data_dict]\n",
    "print 'There are ', len(list_of_employees), ' employees(data points) in this dataset'\n",
    "print list_of_employees\n",
    "print '-------------------------------------'\n",
    "print '\\nLIST OF POI (Person Of Interest):'\n",
    "total_poi = 0\n",
    "for employee in data_dict:\n",
    "    if data_dict[employee][\"poi\"] == 1:\n",
    "        total_poi += 1\n",
    "        print 'Employee: ', employee\n",
    "print '-------------------------------------'        \n",
    "print \"\\nThe number of POIs in the dataset is\", total_poi"
   ]
  },
  {
   "cell_type": "code",
   "execution_count": 5,
   "metadata": {
    "collapsed": false
   },
   "outputs": [
    {
     "name": "stdout",
     "output_type": "stream",
     "text": [
      "Each person has a maximum of 21 features\n"
     ]
    }
   ],
   "source": [
    "max_no_features = 0\n",
    "for person in data_dict:\n",
    "    no_features = len(data_dict[person])\n",
    "    if no_features > max_no_features:\n",
    "        max_no_features = no_features\n",
    "\n",
    "print \"Each person has a maximum of \" + str(max_no_features) + \" features\""
   ]
  },
  {
   "cell_type": "markdown",
   "metadata": {},
   "source": [
    "We can see that we have a total of 146 data points from which we can gain information and insight about the Enron case. Each person has a maximum of 21 features with some of them though having NaN as a value in some features. Lastly the number of POIs in the dataset is 18 however the number of total POIs identified is 35 which are documented in a separate text file. That means what we have not a lot of data to work with and that makes our work on the POI identifier harder."
   ]
  },
  {
   "cell_type": "code",
   "execution_count": 6,
   "metadata": {
    "collapsed": false
   },
   "outputs": [
    {
     "name": "stdout",
     "output_type": "stream",
     "text": [
      "LIST OF FEATURES OVERVIEW:\n",
      "['salary', 'to_messages', 'deferral_payments', 'total_payments', 'exercised_stock_options', 'bonus', 'restricted_stock', 'shared_receipt_with_poi', 'restricted_stock_deferred', 'total_stock_value', 'expenses', 'loan_advances', 'from_messages', 'other', 'from_this_person_to_poi', 'poi', 'director_fees', 'deferred_income', 'long_term_incentive', 'email_address', 'from_poi_to_this_person']\n"
     ]
    }
   ],
   "source": [
    "print 'LIST OF FEATURES OVERVIEW:'\n",
    "for person in data_dict:\n",
    "    if len(data_dict[person]) == max_no_features:\n",
    "        print [ key for key in data_dict[person]]\n",
    "        break"
   ]
  },
  {
   "cell_type": "markdown",
   "metadata": {},
   "source": [
    "### Visualising Features"
   ]
  },
  {
   "cell_type": "markdown",
   "metadata": {},
   "source": [
    "I created two functions to visualise pairs of features looking for outliers. One for the actual visualisation and one for parsing label names for the axis and title of the plot."
   ]
  },
  {
   "cell_type": "code",
   "execution_count": 7,
   "metadata": {
    "collapsed": true
   },
   "outputs": [],
   "source": [
    "def parse_labels(label):\n",
    "    words = label.split(\"_\")\n",
    "    parsed_label = \" \".join(words).capitalize()\n",
    "    return parsed_label\n",
    "\n",
    "def visualise_features(feature1, feature2, fig_name):\n",
    "    \"\"\"\n",
    "    Make a scatterplot of two features and save the figure\n",
    "    :param feature1: str\n",
    "    :param feature2: str\n",
    "    :param fig_name: str\n",
    "    :return: None\n",
    "    \"\"\"\n",
    "    for person in data_dict:\n",
    "        for feature in data_dict[person]:\n",
    "            if feature == feature1:\n",
    "                x = data_dict[person][feature]\n",
    "            if feature == feature2:\n",
    "                y = data_dict[person][feature]\n",
    "        plt.scatter(x = x, y = y, color = \"#FF6666\")\n",
    "    plt.title(fig_name)\n",
    "    plt.xlabel(parse_labels(feature1))\n",
    "    plt.ylabel(parse_labels(feature2))"
   ]
  },
  {
   "cell_type": "markdown",
   "metadata": {},
   "source": [
    "By using the function on the features of \"salary\" and \"bonus\" an outlier was spotted. "
   ]
  },
  {
   "cell_type": "code",
   "execution_count": 8,
   "metadata": {
    "collapsed": false
   },
   "outputs": [
    {
     "data": {
      "image/png": "[encoded data removed]",
      "text/plain": [
       "<matplotlib.figure.Figure at 0x10a208950>"
      ]
     },
     "metadata": {},
     "output_type": "display_data"
    }
   ],
   "source": [
    "import matplotlib.pyplot as plt\n",
    "import seaborn as sns\n",
    "%matplotlib inline\n",
    "visualise_features(\"salary\", \"bonus\", \"Salary vs. Bonus with Outliers\")"
   ]
  },
  {
   "cell_type": "code",
   "execution_count": 9,
   "metadata": {
    "collapsed": false
   },
   "outputs": [
    {
     "name": "stdout",
     "output_type": "stream",
     "text": [
      "TOTAL 26704229\n"
     ]
    }
   ],
   "source": [
    "for employee, features in data_dict.iteritems():\n",
    "    if not (features['salary'] == 'NaN') and features['salary'] > 2000000:\n",
    "            print employee, features['salary']"
   ]
  },
  {
   "cell_type": "markdown",
   "metadata": {},
   "source": [
    "After inspecting closely what this outlier might be I figured out that it is the \"TOTAL\" row from the parsed pdf. That is obviously an error during parsing of the data so it must be removed. There was also another outlier. This time it wasn't an extreme value however in the context of our POI identifier it wasn't needed as it wasn't a person. It was the entry for \"THE TRAVEL AGENCY IN THE PARK\" which was removed as well."
   ]
  },
  {
   "cell_type": "code",
   "execution_count": 10,
   "metadata": {
    "collapsed": false
   },
   "outputs": [
    {
     "data": {
      "text/plain": [
       "{'bonus': 'NaN',\n",
       " 'deferral_payments': 'NaN',\n",
       " 'deferred_income': 'NaN',\n",
       " 'director_fees': 'NaN',\n",
       " 'email_address': 'NaN',\n",
       " 'exercised_stock_options': 'NaN',\n",
       " 'expenses': 'NaN',\n",
       " 'from_messages': 'NaN',\n",
       " 'from_poi_to_this_person': 'NaN',\n",
       " 'from_this_person_to_poi': 'NaN',\n",
       " 'loan_advances': 'NaN',\n",
       " 'long_term_incentive': 'NaN',\n",
       " 'other': 362096,\n",
       " 'poi': False,\n",
       " 'restricted_stock': 'NaN',\n",
       " 'restricted_stock_deferred': 'NaN',\n",
       " 'salary': 'NaN',\n",
       " 'shared_receipt_with_poi': 'NaN',\n",
       " 'to_messages': 'NaN',\n",
       " 'total_payments': 362096,\n",
       " 'total_stock_value': 'NaN'}"
      ]
     },
     "execution_count": 10,
     "metadata": {},
     "output_type": "execute_result"
    }
   ],
   "source": [
    "data_dict.pop(\"TOTAL\")\n",
    "data_dict.pop(\"THE TRAVEL AGENCY IN THE PARK\")"
   ]
  },
  {
   "cell_type": "code",
   "execution_count": 11,
   "metadata": {
    "collapsed": false
   },
   "outputs": [
    {
     "data": {
      "image/png": "[encoded data removed]",
      "text/plain": [
       "<matplotlib.figure.Figure at 0x10362d8d0>"
      ]
     },
     "metadata": {},
     "output_type": "display_data"
    }
   ],
   "source": [
    "visualise_features(\"salary\", \"bonus\", \"Salary vs. Bonus without Outliers\")"
   ]
  },
  {
   "cell_type": "markdown",
   "metadata": {
    "collapsed": false
   },
   "source": [
    "## III. Creating New Features\n",
    "\n",
    "Next up three new features were created. One called \"fraction_from_poi\" which is the fraction of email messages received from a poi to all the messages received and \"fraction_to_poi\" which is the fraction of email messages sent to a poi to all the messages sent by a given person. My logic states that if a given person has a lot of interaction with a POI then he might be a POI as well so the fraction of messages to and from a POI were computed and used as a feature in the algorithms to follow. And the last feature I want to add is bonus_salary_ratio which combine the effect of bonus and salary as descibed by the above scatterplot.\n",
    "\n"
   ]
  },
  {
   "cell_type": "code",
   "execution_count": 12,
   "metadata": {
    "collapsed": true
   },
   "outputs": [],
   "source": [
    "\n",
    "### Task 3: Create new feature(s)\n",
    "# Bonus-salary ratio\n",
    "for employee, features in data_dict.iteritems():\n",
    "    if features['bonus'] == \"NaN\" or features['salary'] == \"NaN\":\n",
    "        features['bonus_salary_ratio'] = \"NaN\"\n",
    "    else:\n",
    "        features['bonus_salary_ratio'] = float(features['bonus']) / float(features['salary'])\n",
    "\n",
    "# from_this_person_to_poi as a percentage of from_messages\n",
    "for employee, features in data_dict.iteritems():\n",
    "    if features['from_this_person_to_poi'] == \"NaN\" or features['from_messages'] == \"NaN\":\n",
    "        features['fraction_to_poi'] = \"NaN\"\n",
    "    else:\n",
    "        features['fraction_to_poi'] = float(features['from_this_person_to_poi']) / float(features['from_messages'])\n",
    "\n",
    "# from_poi_to_this_person as a percentage of to_messages\n",
    "for employee, features in data_dict.iteritems():\n",
    "    if features['from_poi_to_this_person'] == \"NaN\" or features['to_messages'] == \"NaN\":\n",
    "        features['fraction_from_poi'] = \"NaN\"\n",
    "    else:\n",
    "        features['fraction_from_poi'] = float(features['from_poi_to_this_person']) / float(features['to_messages'])\n",
    "\n",
    "### Store to my_dataset for easy export below.\n",
    "\n",
    "my_dataset = data_dict\n",
    "\n",
    "### Extract features and labels from dataset for local testing\n",
    "data = featureFormat(my_dataset, features_list, sort_keys = True)\n",
    "labels, features = targetFeatureSplit(data)\n"
   ]
  },
  {
   "cell_type": "markdown",
   "metadata": {},
   "source": [
    "Here is the visualisation of those two features. "
   ]
  },
  {
   "cell_type": "code",
   "execution_count": 13,
   "metadata": {
    "collapsed": false
   },
   "outputs": [
    {
     "data": {
      "image/png": "[encoded data removed]",
      "text/plain": [
       "<matplotlib.figure.Figure at 0x10a691fd0>"
      ]
     },
     "metadata": {},
     "output_type": "display_data"
    }
   ],
   "source": [
    "visualise_features(\"fraction_from_poi\", \"fraction_to_poi\", \"Fraction from POI vs. Fraction to POI\")"
   ]
  },
  {
   "cell_type": "markdown",
   "metadata": {},
   "source": [
    "## IV. Algorithm Implementation"
   ]
  },
  {
   "cell_type": "code",
   "execution_count": 30,
   "metadata": {
    "collapsed": false
   },
   "outputs": [],
   "source": [
    "### Task 4: Try a varity of classifiers\n",
    "### Please name your classifier clf for easy export below.\n",
    "### Note that if you want to do PCA or other multi-stage operations,\n",
    "### you'll need to use Pipelines. For more info:\n",
    "### http://scikit-learn.org/stable/modules/pipeline.html\n",
    "\n",
    "from sklearn.feature_selection import SelectKBest, f_classif\n",
    "from sklearn.naive_bayes import GaussianNB\n",
    "from sklearn.svm import SVC\n",
    "from sklearn.tree import DecisionTreeClassifier\n",
    "from sklearn.ensemble import RandomForestClassifier\n",
    "from sklearn.ensemble import AdaBoostClassifier\n",
    "from sklearn.decomposition import PCA\n",
    "from sklearn.preprocessing import StandardScaler\n",
    "from sklearn.linear_model import LogisticRegression\n",
    "from sklearn.pipeline import Pipeline\n",
    "from sklearn.cross_validation import StratifiedShuffleSplit\n",
    "from sklearn.grid_search import GridSearchCV\n",
    "\n",
    "skb = SelectKBest(f_classif)\n",
    "\n",
    "nb = GaussianNB()\n",
    "\n",
    "dt = DecisionTreeClassifier()\n",
    "\n",
    "rf = RandomForestClassifier()\n",
    "\n",
    "pca = PCA()\n",
    "\n",
    "pipeline1 = Pipeline([(\"kbest\", skb), (\"nb\", nb )])\n",
    "\n",
    "pipeline2 = Pipeline([(\"kbest\", skb), (\"dt\", dt )])\n",
    "\n",
    "pipeline3 = Pipeline([(\"kbest\", skb), (\"rf\", rf )])\n",
    "\n",
    "pipeline4 = Pipeline([(\"kbest\", skb), (\"PCA\", pca ),(\"dt\", dt )])\n",
    "\n",
    "params1 = {\"kbest__k\": range(5, 10)}\n",
    "\n",
    "params2 = {\"kbest__k\": range(5, 10),\n",
    "           \"dt__min_samples_split\": [2, 4, 6],\n",
    "           \"dt__min_samples_leaf\": [2, 4, 6],\n",
    "           \"dt__criterion\": [\"gini\", \"entropy\"]}\n",
    "\n",
    "params3 = {\"kbest__k\": range(5, 10),\n",
    "           \"rf__max_depth\": [None, 5, 10],\n",
    "           \"rf__n_estimators\": [10, 15, 20]}\n",
    "\n",
    "params4 = {\"kbest__k\": range(5, 10),\n",
    "           \"PCA__whiten\": [True, False],\n",
    "           \"dt__min_samples_split\": [2, 4, 6],\n",
    "           \"dt__min_samples_leaf\": [2, 4, 6],\n",
    "           \"dt__criterion\": [\"gini\", \"entropy\"]}\n"
   ]
  },
  {
   "cell_type": "markdown",
   "metadata": {},
   "source": [
    "## V. Data Set Split and Validation\n",
    "\n",
    "Validation is the process of holding out a part of your dataset in order to have a training and a testing dataset in which later you will test your algorithm and validate it's performance. Some of the benefits of validation and splitting our dataset is that it gives as an estimate of the performance of our algorithm in an independent dataset and also it serves as a check on overfitting. If not done one of the classic results is an overfit classifier which won't be able to classify new, unknown data correctly.\n",
    "Because our data set is imbalanced a suitable method for splitting it is using Stratified Shuffle Split which creates many folds of different splits of the data set each time and uses them to validate our algorithm.\n",
    "\n",
    "100 folds were found to be suitable because a bigger number would increase execution time a lot."
   ]
  },
  {
   "cell_type": "code",
   "execution_count": 16,
   "metadata": {
    "collapsed": true
   },
   "outputs": [],
   "source": [
    "### Task 5: Tune your classifier to achieve better than .3 precision and recall\n",
    "### using our testing script. Check the tester.py script in the final project\n",
    "### folder for details on the evaluation method, especially the test_classifier\n",
    "### function. Because of the small size of the dataset, the script uses\n",
    "### stratified shuffle split cross validation. For more info:\n",
    "### http://scikit-learn.org/stable/modules/generated/sklearn.cross_validation.StratifiedShuffleSplit.html\n",
    "\n",
    "sss = StratifiedShuffleSplit(labels, 100, test_size=0.3, random_state=60)"
   ]
  },
  {
   "cell_type": "code",
   "execution_count": null,
   "metadata": {
    "collapsed": true
   },
   "outputs": [],
   "source": []
  },
  {
   "cell_type": "markdown",
   "metadata": {},
   "source": [
    "## VI. Algorithm choice and tuning\n",
    "\n",
    "### a) K Best + Naive Bayes\n",
    "\n",
    "Initially I decided to try Naive Bayes for this particular classification problem and in particular GaussianNB. Also, GridSearchCV was used for parameter tuning for both Naive Bayes (which doesn't need tuning though) and the final algorithm that was chosen. Tuning an algorithm which supports parameter tuning is important because each algorithm can't give us the best results available by using its default parameters. In order however to avoid tuning them manually GridSearchCV provides an easy and helpful way to do this automatically and get the best parameters for a given algorithm."
   ]
  },
  {
   "cell_type": "code",
   "execution_count": 20,
   "metadata": {
    "collapsed": false
   },
   "outputs": [
    {
     "name": "stdout",
     "output_type": "stream",
     "text": [
      "Tester Classification report\n",
      "GaussianNB(priors=None)\n",
      "\tAccuracy: 0.73893\tPrecision: 0.22582\tRecall: 0.39450\tF1: 0.28722\tF2: 0.34322\n",
      "\tTotal predictions: 15000\tTrue positives:  789\tFalse positives: 2705\tFalse negatives: 1211\tTrue negatives: 10295\n",
      "\n",
      "A total of 7 features were used\n",
      "The features used are: ['salary', 'bonus_salary_ratio', 'fraction_to_poi', 'bonus', 'deferred_income', 'total_stock_value', 'exercised_stock_options']\n"
     ]
    }
   ],
   "source": [
    "gs = GridSearchCV(pipeline1, params1, n_jobs=-1, cv=sss)\n",
    "gs.fit(features, labels)\n",
    "\n",
    "clf = gs.best_estimator_\n",
    "\n",
    "from tester import test_classifier\n",
    "\n",
    "print \"Tester Classification report\"\n",
    "test_classifier(clf.named_steps[\"nb\"], data_dict, features_list)\n",
    "\n",
    "features_used = gs.best_estimator_.named_steps[\"kbest\"].get_support(indices=True)\n",
    "print \"A total of %d features were used\" % len(features_used)\n",
    "#Note 1: You use 'features_list[i+1]', instead of 'features_list[i]', \n",
    "#because the first feature in that list is 'poi' \n",
    "#which you didn't include in the variable 'features'\n",
    "feature_names = [features_list[i + 1] for i in features_used]\n",
    "print \"The features used are:\", feature_names"
   ]
  },
  {
   "cell_type": "markdown",
   "metadata": {},
   "source": [
    "The evaluation metrics of choice was the f1 score which is a weighted average of precision and recall. Precision is the fraction of true positives to all the data points marked as positive and recall is the fraction of true positives to all the positives available. Precision is a measure of exactness and precision is a measure of completeness.\n",
    "\n",
    "In the context of this POI identifier high precision means that someone identified as a POI is indeed a POI and high recall means that if a POI shows up the identifier will identify him/her at the cost of having someone non-POI being identified as a POI as well.\n",
    "\n",
    "However there was a really low precision and recall score with GaussianNB so the next choice to try was Decision Trees. Specifically the test_classifier function was used which was provided by Udacity to evaluate the classifier.\n",
    "\n",
    "Due to having set up a pipeline with KBest in it some extra measures had to be taken to identify how many and which features it decided to use.\n",
    "\n",
    "It turns out that it used 7 features and they were salary, fraction_to_poi, bonus, deferred_income, total_stock_value, exercised_stock_options and long_term_incentive."
   ]
  },
  {
   "cell_type": "markdown",
   "metadata": {},
   "source": [
    "### b) K-Best + Decision Tree:"
   ]
  },
  {
   "cell_type": "code",
   "execution_count": 25,
   "metadata": {
    "collapsed": false
   },
   "outputs": [
    {
     "name": "stdout",
     "output_type": "stream",
     "text": [
      "Tester Classification report\n",
      "DecisionTreeClassifier(class_weight=None, criterion='entropy', max_depth=None,\n",
      "            max_features=None, max_leaf_nodes=None,\n",
      "            min_impurity_split=1e-07, min_samples_leaf=6,\n",
      "            min_samples_split=4, min_weight_fraction_leaf=0.0,\n",
      "            presort=False, random_state=None, splitter='best')\n",
      "\tAccuracy: 0.86300\tPrecision: 0.47909\tRecall: 0.31500\tF1: 0.38009\tF2: 0.33816\n",
      "\tTotal predictions: 15000\tTrue positives:  630\tFalse positives:  685\tFalse negatives: 1370\tTrue negatives: 12315\n",
      "\n",
      "A total of 8 features were used\n",
      "feature no. 1: total_stock_value (0.415248411841) (6.09417331064)\n",
      "feature no. 2: exercised_stock_options (0.242096186477) (4.187477507)\n",
      "feature no. 3: long_term_incentive (0.0) (9.21281062198)\n",
      "feature no. 4: deferred_income (0.0) (24.1828986786)\n",
      "feature no. 5: bonus (0.0) (0.0654996529099)\n",
      "feature no. 6: fraction_to_poi (0.0) (0.224611274736)\n",
      "feature no. 7: bonus_salary_ratio (0.0) (3.12809174816)\n",
      "feature no. 8: salary (0.0) (10.7835847082)\n"
     ]
    }
   ],
   "source": [
    "gs = GridSearchCV(pipeline2, params2, n_jobs=-1, cv=sss, scoring=\"f1\")\n",
    "gs.fit(features, labels)\n",
    "clf= gs.best_estimator_\n",
    "print \"Tester Classification report\"\n",
    "test_classifier(clf.named_steps[\"dt\"], data_dict, features_list)\n",
    "\n",
    "features_used = gs.best_estimator_.named_steps[\"kbest\"].get_support(indices=True)\n",
    "print \"A total of %d features were used\" % len(features_used)\n",
    "#Note 1: You use 'features_list[i+1]', instead of 'features_list[i]', \n",
    "#because the first feature in that list is 'poi' \n",
    "#which you didn't include in the variable 'features'\n",
    "feature_names = [features_list[i + 1] for i in features_used]\n",
    "#print \"The features used are:\", feature_names\n",
    "scores = [clf.named_steps['kbest'].scores_[i + 1] for i in features_used]\n",
    "#print 'Scores: ', scores\n",
    "importances = [clf.named_steps['dt'].feature_importances_[i+1] for i in features_used]\n",
    "#print 'Importance: ', importances\n",
    "import numpy as np\n",
    "indices = np.argsort(importances)[::-1]\n",
    "#print 'Indices: ', indices\n",
    "for i in range(len(feature_names)):\n",
    "    print \"feature no. {}: {} ({}) ({})\".format(i+1, feature_names[indices[i]], importances[indices[i]], scores[indices[i]])\n"
   ]
  },
  {
   "cell_type": "code",
   "execution_count": null,
   "metadata": {
    "collapsed": true
   },
   "outputs": [],
   "source": []
  },
  {
   "cell_type": "markdown",
   "metadata": {},
   "source": [
    "### c) K-Best + PCA + Decision Tree:"
   ]
  },
  {
   "cell_type": "code",
   "execution_count": 31,
   "metadata": {
    "collapsed": false
   },
   "outputs": [
    {
     "name": "stdout",
     "output_type": "stream",
     "text": [
      "Tester Classification report\n",
      "DecisionTreeClassifier(class_weight=None, criterion='gini', max_depth=None,\n",
      "            max_features=None, max_leaf_nodes=None,\n",
      "            min_impurity_split=1e-07, min_samples_leaf=2,\n",
      "            min_samples_split=6, min_weight_fraction_leaf=0.0,\n",
      "            presort=False, random_state=None, splitter='best')\n",
      "\tAccuracy: 0.83573\tPrecision: 0.34896\tRecall: 0.26800\tF1: 0.30317\tF2: 0.28104\n",
      "\tTotal predictions: 15000\tTrue positives:  536\tFalse positives: 1000\tFalse negatives: 1464\tTrue negatives: 12000\n",
      "\n",
      "A total of 8 features were used\n",
      "feature no. 1: total_stock_value (0.148423005566) (6.09417331064)\n",
      "feature no. 2: long_term_incentive (0.0398291925466) (9.21281062198)\n",
      "feature no. 3: deferred_income (0.0362637362637) (24.1828986786)\n",
      "feature no. 4: exercised_stock_options (0.0) (4.187477507)\n",
      "feature no. 5: bonus (0.0) (0.0654996529099)\n",
      "feature no. 6: fraction_to_poi (0.0) (0.224611274736)\n",
      "feature no. 7: bonus_salary_ratio (0.0) (3.12809174816)\n",
      "feature no. 8: salary (0.0) (10.7835847082)\n"
     ]
    }
   ],
   "source": [
    "gs = GridSearchCV(pipeline4, params4, n_jobs=-1, cv=sss, scoring=\"f1\")\n",
    "gs.fit(features, labels)\n",
    "clf= gs.best_estimator_\n",
    "print \"Tester Classification report\"\n",
    "test_classifier(clf.named_steps[\"dt\"], data_dict, features_list)\n",
    "\n",
    "features_used = gs.best_estimator_.named_steps[\"kbest\"].get_support(indices=True)\n",
    "print \"A total of %d features were used\" % len(features_used)\n",
    "#Note 1: You use 'features_list[i+1]', instead of 'features_list[i]', \n",
    "#because the first feature in that list is 'poi' \n",
    "#which you didn't include in the variable 'features'\n",
    "feature_names = [features_list[i + 1] for i in features_used]\n",
    "#print \"The features used are:\", feature_names\n",
    "scores = [clf.named_steps['kbest'].scores_[i + 1] for i in features_used]\n",
    "#print 'Scores: ', scores\n",
    "importances = [clf.named_steps['dt'].feature_importances_[i+1] for i in features_used]\n",
    "#print 'Importance: ', importances\n",
    "import numpy as np\n",
    "indices = np.argsort(importances)[::-1]\n",
    "#print 'Indices: ', indices\n",
    "for i in range(len(feature_names)):\n",
    "    print \"feature no. {}: {} ({}) ({})\".format(i+1, feature_names[indices[i]], importances[indices[i]], scores[indices[i]])\n"
   ]
  },
  {
   "cell_type": "code",
   "execution_count": null,
   "metadata": {
    "collapsed": true
   },
   "outputs": [],
   "source": []
  },
  {
   "cell_type": "markdown",
   "metadata": {},
   "source": [
    "### d) K-Best + Random Forest:"
   ]
  },
  {
   "cell_type": "code",
   "execution_count": 27,
   "metadata": {
    "collapsed": false
   },
   "outputs": [
    {
     "name": "stdout",
     "output_type": "stream",
     "text": [
      "Tester Classification report\n",
      "RandomForestClassifier(bootstrap=True, class_weight=None, criterion='gini',\n",
      "            max_depth=5, max_features='auto', max_leaf_nodes=None,\n",
      "            min_impurity_split=1e-07, min_samples_leaf=1,\n",
      "            min_samples_split=2, min_weight_fraction_leaf=0.0,\n",
      "            n_estimators=15, n_jobs=1, oob_score=False, random_state=None,\n",
      "            verbose=0, warm_start=False)\n",
      "\tAccuracy: 0.85900\tPrecision: 0.41913\tRecall: 0.14900\tF1: 0.21985\tF2: 0.17105\n",
      "\tTotal predictions: 15000\tTrue positives:  298\tFalse positives:  413\tFalse negatives: 1702\tTrue negatives: 12587\n",
      "\n",
      "A total of 7 features were used\n",
      "feature no. 1: exercised_stock_options (0.131807072432) (4.187477507)\n",
      "feature no. 2: salary (0.108060685836) (10.7835847082)\n",
      "feature no. 3: deferred_income (0.0937505101258) (24.1828986786)\n",
      "feature no. 4: total_stock_value (0.0792989792216) (6.09417331064)\n",
      "feature no. 5: bonus_salary_ratio (0.0362388786902) (3.12809174816)\n",
      "feature no. 6: fraction_to_poi (0.0107225800604) (0.224611274736)\n",
      "feature no. 7: bonus (0.0) (0.0654996529099)\n"
     ]
    }
   ],
   "source": [
    "gs = GridSearchCV(pipeline3, params3, n_jobs=-1, cv=sss, scoring=\"f1\")\n",
    "gs.fit(features, labels)\n",
    "clf= gs.best_estimator_\n",
    "print \"Tester Classification report\"\n",
    "test_classifier(clf.named_steps[\"rf\"], data_dict, features_list)\n",
    "\n",
    "features_used = gs.best_estimator_.named_steps[\"kbest\"].get_support(indices=True)\n",
    "print \"A total of %d features were used\" % len(features_used)\n",
    "#Note 1: You use 'features_list[i+1]', instead of 'features_list[i]', \n",
    "#because the first feature in that list is 'poi' \n",
    "#which you didn't include in the variable 'features'\n",
    "feature_names = [features_list[i + 1] for i in features_used]\n",
    "#print \"The features used are:\", feature_names\n",
    "scores = [clf.named_steps['kbest'].scores_[i + 1] for i in features_used]\n",
    "#print 'Scores: ', scores\n",
    "importances = [clf.named_steps['rf'].feature_importances_[i+1] for i in features_used]\n",
    "#print 'Importance: ', importances\n",
    "indices = np.argsort(importances)[::-1]\n",
    "#print 'Indices: ', indices\n",
    "for i in range(len(feature_names)):\n",
    "    print \"feature no. {}: {} ({}) ({})\".format(i+1, feature_names[indices[i]], importances[indices[i]], scores[indices[i]])\n"
   ]
  },
  {
   "cell_type": "code",
   "execution_count": null,
   "metadata": {
    "collapsed": false
   },
   "outputs": [],
   "source": []
  },
  {
   "cell_type": "code",
   "execution_count": null,
   "metadata": {
    "collapsed": false
   },
   "outputs": [],
   "source": []
  },
  {
   "cell_type": "code",
   "execution_count": null,
   "metadata": {
    "collapsed": false
   },
   "outputs": [],
   "source": []
  },
  {
   "cell_type": "code",
   "execution_count": null,
   "metadata": {
    "collapsed": false
   },
   "outputs": [],
   "source": []
  },
  {
   "cell_type": "code",
   "execution_count": null,
   "metadata": {
    "collapsed": true
   },
   "outputs": [],
   "source": []
  },
  {
   "cell_type": "code",
   "execution_count": null,
   "metadata": {
    "collapsed": true
   },
   "outputs": [],
   "source": []
  },
  {
   "cell_type": "code",
   "execution_count": null,
   "metadata": {
    "collapsed": true
   },
   "outputs": [],
   "source": []
  },
  {
   "cell_type": "code",
   "execution_count": null,
   "metadata": {
    "collapsed": true
   },
   "outputs": [],
   "source": [
    "### Task 6: Dump your classifier, dataset, and features_list so anyone can\n",
    "### check your results. You do not need to change anything below, but make sure\n",
    "### that the version of poi_id.py that you submit can be run on its own and\n",
    "### generates the necessary .pkl files for validating your results.\n",
    "\n",
    "dump_classifier_and_data(clf1, data_dict, features_list)\n",
    "dump_classifier_and_data(clf2, data_dict, features_list)"
   ]
  },
  {
   "cell_type": "code",
   "execution_count": null,
   "metadata": {
    "collapsed": true
   },
   "outputs": [],
   "source": [
    "dump_classifier_and_data(clf2, data_dict, features_list)"
   ]
  },
  {
   "cell_type": "code",
   "execution_count": null,
   "metadata": {
    "collapsed": true
   },
   "outputs": [],
   "source": []
  },
  {
   "cell_type": "code",
   "execution_count": null,
   "metadata": {
    "collapsed": true
   },
   "outputs": [],
   "source": []
  },
  {
   "cell_type": "code",
   "execution_count": null,
   "metadata": {
    "collapsed": true
   },
   "outputs": [],
   "source": []
  },
  {
   "cell_type": "code",
   "execution_count": null,
   "metadata": {
    "collapsed": true
   },
   "outputs": [],
   "source": []
  },
  {
   "cell_type": "code",
   "execution_count": null,
   "metadata": {
    "collapsed": true
   },
   "outputs": [],
   "source": []
  },
  {
   "cell_type": "code",
   "execution_count": null,
   "metadata": {
    "collapsed": true
   },
   "outputs": [],
   "source": []
  },
  {
   "cell_type": "code",
   "execution_count": null,
   "metadata": {
    "collapsed": true
   },
   "outputs": [],
   "source": []
  },
  {
   "cell_type": "code",
   "execution_count": null,
   "metadata": {
    "collapsed": true
   },
   "outputs": [],
   "source": []
  },
  {
   "cell_type": "code",
   "execution_count": null,
   "metadata": {
    "collapsed": true
   },
   "outputs": [],
   "source": []
  },
  {
   "cell_type": "code",
   "execution_count": null,
   "metadata": {
    "collapsed": true
   },
   "outputs": [],
   "source": []
  },
  {
   "cell_type": "code",
   "execution_count": null,
   "metadata": {
    "collapsed": true
   },
   "outputs": [],
   "source": []
  },
  {
   "cell_type": "code",
   "execution_count": null,
   "metadata": {
    "collapsed": true
   },
   "outputs": [],
   "source": []
  },
  {
   "cell_type": "code",
   "execution_count": null,
   "metadata": {
    "collapsed": true
   },
   "outputs": [],
   "source": []
  }
 ],
 "metadata": {
  "celltoolbar": "Raw Cell Format",
  "kernelspec": {
   "display_name": "Python 2",
   "language": "python",
   "name": "python2"
  },
  "language_info": {
   "codemirror_mode": {
    "name": "ipython",
    "version": 2
   },
   "file_extension": ".py",
   "mimetype": "text/x-python",
   "name": "python",
   "nbconvert_exporter": "python",
   "pygments_lexer": "ipython2",
   "version": "2.7.11"
  }
 },
 "nbformat": 4,
 "nbformat_minor": 0
}
